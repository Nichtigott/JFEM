{
 "cells": [
  {
   "cell_type": "code",
   "execution_count": 1,
   "metadata": {},
   "outputs": [
    {
     "data": {
      "text/plain": [
       "Main.Langrange1DShapeFun"
      ]
     },
     "metadata": {},
     "output_type": "display_data"
    }
   ],
   "source": [
    "module Langrange1DShapeFun\n",
    "\n",
    "function creatmesh(xmin=0.0,xmax=1.0,nx=5,meshtype=\"edge2\")\n",
    "\n",
    "    if meshtype==\"edge2\"\n",
    "        order=1\n",
    "        nodesperelement=2\n",
    "        vtkcelltype=3\n",
    "    elseif meshtype==\"edge3\"\n",
    "        order=2\n",
    "        nodesperelement=3\n",
    "        vtkcelltype=4\n",
    "    elseif meshtype==\"edge4\"\n",
    "        order=3\n",
    "        nodesperelement=4\n",
    "        vtkcelltype=4\n",
    "    end\n",
    "    elements=nx\n",
    "    nodes=elements*order+1\n",
    "    dx=(xmax-xmin)/(nodes-1)\n",
    "    nodecoord=zeros(nodes,1)\n",
    "    elementconn=zeros(Int16,(elements,nodesperelement))\n",
    "    a=size(elementconn,1)\n",
    "    for i in 1:nodes\n",
    "        nodecoord[i]=xmin+i*dx\n",
    "    end\n",
    "    for e in 1:elements\n",
    "        for j in 1:nodesperelement\n",
    "                elementconn[(e-1)*a+j]=e*order+j\n",
    "        end\n",
    "    return elementconn\n",
    "    end\n",
    "\n",
    "end\n",
    "end"
   ]
  },
  {
   "cell_type": "code",
   "execution_count": 2,
   "metadata": {},
   "outputs": [
    {
     "data": {
      "text/plain": [
       "5×2 Matrix{Int16}:\n",
       " 2  0\n",
       " 3  0\n",
       " 0  0\n",
       " 0  0\n",
       " 0  0"
      ]
     },
     "metadata": {},
     "output_type": "display_data"
    }
   ],
   "source": [
    "#using Langrange1DShapeFun\n",
    "a=Langrange1DShapeFun.creatmesh()"
   ]
  },
  {
   "cell_type": "code",
   "execution_count": 3,
   "metadata": {},
   "outputs": [],
   "source": []
  }
 ],
 "metadata": {
  "kernelspec": {
   "display_name": "Julia 1.8.0",
   "language": "julia",
   "name": "julia-1.8"
  },
  "language_info": {
   "file_extension": ".jl",
   "mimetype": "application/julia",
   "name": "julia",
   "version": "1.8.0"
  },
  "orig_nbformat": 4
 },
 "nbformat": 4,
 "nbformat_minor": 2
}
